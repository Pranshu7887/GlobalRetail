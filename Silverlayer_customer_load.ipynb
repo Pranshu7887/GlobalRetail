{
 "cells": [
  {
   "cell_type": "code",
   "execution_count": 0,
   "metadata": {
    "application/vnd.databricks.v1+cell": {
     "cellMetadata": {
      "byteLimit": 2048000,
      "rowLimit": 10000
     },
     "inputWidgets": {},
     "nuid": "bbc10e3f-f54a-4de6-8f55-184517b2a92f",
     "showTitle": false,
     "tableResultSettingsMap": {},
     "title": ""
    }
   },
   "outputs": [
    {
     "output_type": "stream",
     "name": "stdout",
     "output_type": "stream",
     "text": [
      "Out[1]: DataFrame[]"
     ]
    }
   ],
   "source": [
    "spark.sql(\"Use globalretail_silver\")"
   ]
  },
  {
   "cell_type": "code",
   "execution_count": 0,
   "metadata": {
    "application/vnd.databricks.v1+cell": {
     "cellMetadata": {
      "byteLimit": 2048000,
      "rowLimit": 10000
     },
     "inputWidgets": {},
     "nuid": "b6907ffa-bdb1-46bf-bf65-7b0f7b9b9ca5",
     "showTitle": false,
     "tableResultSettingsMap": {},
     "title": ""
    }
   },
   "outputs": [
    {
     "output_type": "stream",
     "name": "stdout",
     "output_type": "stream",
     "text": [
      "Out[4]: DataFrame[]"
     ]
    }
   ],
   "source": [
    "spark.sql(\"\"\"\n",
    "          CREATE TABLE IF NOT EXISTS silver_customers (\n",
    "              customer_id STRING,\n",
    "              name STRING,\n",
    "              email STRING,\n",
    "              country STRING,\n",
    "              customer_type STRING,\n",
    "              registration_date DATE,\n",
    "              age INT,\n",
    "              gender STRING,\n",
    "              total_purchases INT,\n",
    "              customer_segment STRING,\n",
    "              days_since_registration INT,\n",
    "              last_updated TIMESTAMP)\n",
    "    \"\"\")"
   ]
  },
  {
   "cell_type": "code",
   "execution_count": 0,
   "metadata": {
    "application/vnd.databricks.v1+cell": {
     "cellMetadata": {
      "byteLimit": 2048000,
      "rowLimit": 10000
     },
     "inputWidgets": {},
     "nuid": "34661fd6-5363-4cbb-ac8f-2a846fb0241d",
     "showTitle": false,
     "tableResultSettingsMap": {},
     "title": ""
    }
   },
   "outputs": [],
   "source": [
    "# Get last processed timestamp from silver layer\n",
    "last_processed_df = spark.sql(\"SELECT max(last_updated) as last_processed from silver_customers\")\n",
    "last_processed_timestamp = last_processed_df.collect()[0]['last_processed']\n",
    "\n",
    "if last_processed_timestamp is None:\n",
    "    last_processed_timestamp = \"1900-01-01T00:00:00.000+00:00\""
   ]
  },
  {
   "cell_type": "code",
   "execution_count": 0,
   "metadata": {
    "application/vnd.databricks.v1+cell": {
     "cellMetadata": {
      "byteLimit": 2048000,
      "rowLimit": 10000
     },
     "inputWidgets": {},
     "nuid": "d58cd857-8fb4-415f-851d-98025985b58d",
     "showTitle": false,
     "tableResultSettingsMap": {},
     "title": ""
    }
   },
   "outputs": [
    {
     "output_type": "stream",
     "name": "stdout",
     "output_type": "stream",
     "text": [
      "Out[9]: DataFrame[]"
     ]
    }
   ],
   "source": [
    "# Creating temporary view of incremental bronze data\n",
    "spark.sql(f\"\"\"\n",
    "          create or replace temporary view bronze_incremental as\n",
    "          select *\n",
    "          from globalretail_bronze.bronze_customer c where c.ingestion_timestamp > '{last_processed_timestamp}'\n",
    "          \"\"\")"
   ]
  },
  {
   "cell_type": "code",
   "execution_count": 0,
   "metadata": {
    "application/vnd.databricks.v1+cell": {
     "cellMetadata": {
      "byteLimit": 2048000,
      "rowLimit": 10000
     },
     "inputWidgets": {},
     "nuid": "c855266f-1d6e-4e05-8849-c90c8d8031b8",
     "showTitle": false,
     "tableResultSettingsMap": {},
     "title": ""
    }
   },
   "outputs": [
    {
     "output_type": "stream",
     "name": "stdout",
     "output_type": "stream",
     "text": [
      "+-----------+-----------+--------------------+---------+-------------+-----------------+---+------+---------------+--------------------+\n|customer_id|       name|               email|  country|customer_type|registration_date|age|gender|total_purchases| ingestion_timestamp|\n+-----------+-----------+--------------------+---------+-------------+-----------------+---+------+---------------+--------------------+\n|          1| Customer 1|customer1@example...|Australia|      Regular|       2011-05-15| 22|  Male|            191|2025-02-17 13:00:...|\n|          2| Customer 2|customer2@example...|   France|      Premium|       2018-11-27| 52| Other|            145|2025-02-17 13:00:...|\n|          3| Customer 3|customer3@example...|   Canada|      Premium|       2015-10-01| 32| Other|            691|2025-02-17 13:00:...|\n|          4| Customer 4|customer4@example...|      USA|      Premium|       2011-01-19| 70| Other|            644|2025-02-17 13:00:...|\n|          5| Customer 5|customer5@example...|  Germany|      Regular|       2021-08-26| 66| Other|            508|2025-02-17 13:00:...|\n|          6| Customer 6|customer6@example...|   France|      Premium|       2015-03-02| 20|  Male|            704|2025-02-17 13:00:...|\n|          7| Customer 7|customer7@example...|    China|      Premium|       2018-05-24| 24|Female|            892|2025-02-17 13:00:...|\n|          8| Customer 8|customer8@example...|    China|      Regular|       2023-10-02| 26|  Male|            488|2025-02-17 13:00:...|\n|          9| Customer 9|customer9@example...|    Japan|      Premium|       2014-10-05| 36| Other|             30|2025-02-17 13:00:...|\n|         10|Customer 10|customer10@exampl...|   Brazil|      Premium|       2017-08-30| 30|  Male|            959|2025-02-17 13:00:...|\n|         11|Customer 11|customer11@exampl...|       UK|      Regular|       2020-05-17| 62|Female|            876|2025-02-17 13:00:...|\n|         12|Customer 12|customer12@exampl...|Australia|          VIP|       2019-06-16| 65| Other|            758|2025-02-17 13:00:...|\n|         13|Customer 13|customer13@exampl...|      USA|      Regular|       2011-08-14| 21| Other|            967|2025-02-17 13:00:...|\n|         14|Customer 14|customer14@exampl...|Australia|          VIP|       2023-11-09| 54|Female|            504|2025-02-17 13:00:...|\n|         15|Customer 15|customer15@exampl...|    China|      Regular|       2023-03-25| 75| Other|            696|2025-02-17 13:00:...|\n|         16|Customer 16|customer16@exampl...|Australia|      Premium|       2012-12-31| 72|Female|            609|2025-02-17 13:00:...|\n|         17|Customer 17|customer17@exampl...|Australia|      Regular|       2022-03-22| 48| Other|            951|2025-02-17 13:00:...|\n|         18|Customer 18|customer18@exampl...|      USA|      Regular|       2012-09-23| 71| Other|            168|2025-02-17 13:00:...|\n|         19|Customer 19|customer19@exampl...|   France|      Regular|       2015-05-02| 25|Female|            432|2025-02-17 13:00:...|\n|         20|Customer 20|customer20@exampl...|    China|      Premium|       2020-05-15| 55| Other|            472|2025-02-17 13:00:...|\n+-----------+-----------+--------------------+---------+-------------+-----------------+---+------+---------------+--------------------+\nonly showing top 20 rows\n\n"
     ]
    }
   ],
   "source": [
    "spark.sql(\"select * from bronze_incremental\").show()"
   ]
  },
  {
   "cell_type": "code",
   "execution_count": 0,
   "metadata": {
    "application/vnd.databricks.v1+cell": {
     "cellMetadata": {
      "byteLimit": 2048000,
      "rowLimit": 10000
     },
     "inputWidgets": {},
     "nuid": "52636cb1-7517-4ef3-bba6-49e05b40942a",
     "showTitle": false,
     "tableResultSettingsMap": {},
     "title": ""
    }
   },
   "outputs": [],
   "source": [
    "# validating email (null or not null)\n",
    "# valid age b/n 18 to 100\n",
    "# creating customer_segment as total_purchases > 10000 then \"High value\" if > 5000 then \"Medium value\" else \"low value\"\n",
    "# days since user is registered in the system\n",
    "# REmoving any junk records where total_purchase is negative no."
   ]
  },
  {
   "cell_type": "code",
   "execution_count": 0,
   "metadata": {
    "application/vnd.databricks.v1+cell": {
     "cellMetadata": {
      "byteLimit": 2048000,
      "rowLimit": 10000
     },
     "inputWidgets": {},
     "nuid": "3259d16c-2565-4fbe-a894-1a6ca87319e9",
     "showTitle": false,
     "tableResultSettingsMap": {},
     "title": ""
    }
   },
   "outputs": [
    {
     "output_type": "stream",
     "name": "stdout",
     "output_type": "stream",
     "text": [
      "Out[13]: DataFrame[]"
     ]
    }
   ],
   "source": [
    "spark.sql(\"\"\"\n",
    "CREATE OR REPLACE TEMPORARY VIEW silver_incremental AS\n",
    "SELECT\n",
    "    customer_id,\n",
    "    name,\n",
    "    email,\n",
    "    country,\n",
    "    customer_type,\n",
    "    registration_date,\n",
    "    age,\n",
    "    gender,\n",
    "    total_purchases,\n",
    "    CASE\n",
    "        WHEN total_purchases > 10000 THEN 'High Value'\n",
    "        WHEN total_purchases > 5000 THEN 'Medium Value'\n",
    "        ELSE 'Low Value'\n",
    "    END AS customer_segment,\n",
    "    DATEDIFF(CURRENT_DATE(), registration_date) AS days_since_registration,\n",
    "    CURRENT_TIMESTAMP() AS last_updated\n",
    "FROM bronze_incremental\n",
    "WHERE \n",
    "    age BETWEEN 18 AND 100\n",
    "    AND email IS NOT NULL\n",
    "    AND total_purchases >= 0\n",
    "\"\"\")"
   ]
  },
  {
   "cell_type": "code",
   "execution_count": 0,
   "metadata": {
    "application/vnd.databricks.v1+cell": {
     "cellMetadata": {
      "byteLimit": 2048000,
      "rowLimit": 10000
     },
     "inputWidgets": {},
     "nuid": "8485f949-c516-480d-87fd-22924b3fae22",
     "showTitle": false,
     "tableResultSettingsMap": {},
     "title": ""
    }
   },
   "outputs": [
    {
     "output_type": "display_data",
     "data": {
      "text/html": [
       "<style scoped>\n",
       "  .table-result-container {\n",
       "    max-height: 300px;\n",
       "    overflow: auto;\n",
       "  }\n",
       "  table, th, td {\n",
       "    border: 1px solid black;\n",
       "    border-collapse: collapse;\n",
       "  }\n",
       "  th, td {\n",
       "    padding: 5px;\n",
       "  }\n",
       "  th {\n",
       "    text-align: left;\n",
       "  }\n",
       "</style><div class='table-result-container'><table class='table-result'><thead style='background-color: white'><tr><th>customer_id</th><th>name</th><th>email</th><th>country</th><th>customer_type</th><th>registration_date</th><th>age</th><th>gender</th><th>total_purchases</th><th>customer_segment</th><th>days_since_registration</th><th>last_updated</th></tr></thead><tbody><tr><td>1</td><td>Customer 1</td><td>customer1@example.com</td><td>Australia</td><td>Regular</td><td>2011-05-15</td><td>22</td><td>Male</td><td>191</td><td>Low Value</td><td>5027</td><td>2025-02-17T13:14:30.238+0000</td></tr><tr><td>2</td><td>Customer 2</td><td>customer2@example.com</td><td>France</td><td>Premium</td><td>2018-11-27</td><td>52</td><td>Other</td><td>145</td><td>Low Value</td><td>2274</td><td>2025-02-17T13:14:30.238+0000</td></tr><tr><td>3</td><td>Customer 3</td><td>customer3@example.com</td><td>Canada</td><td>Premium</td><td>2015-10-01</td><td>32</td><td>Other</td><td>691</td><td>Low Value</td><td>3427</td><td>2025-02-17T13:14:30.238+0000</td></tr><tr><td>4</td><td>Customer 4</td><td>customer4@example.com</td><td>USA</td><td>Premium</td><td>2011-01-19</td><td>70</td><td>Other</td><td>644</td><td>Low Value</td><td>5143</td><td>2025-02-17T13:14:30.238+0000</td></tr><tr><td>5</td><td>Customer 5</td><td>customer5@example.com</td><td>Germany</td><td>Regular</td><td>2021-08-26</td><td>66</td><td>Other</td><td>508</td><td>Low Value</td><td>1271</td><td>2025-02-17T13:14:30.238+0000</td></tr><tr><td>6</td><td>Customer 6</td><td>customer6@example.com</td><td>France</td><td>Premium</td><td>2015-03-02</td><td>20</td><td>Male</td><td>704</td><td>Low Value</td><td>3640</td><td>2025-02-17T13:14:30.238+0000</td></tr><tr><td>7</td><td>Customer 7</td><td>customer7@example.com</td><td>China</td><td>Premium</td><td>2018-05-24</td><td>24</td><td>Female</td><td>892</td><td>Low Value</td><td>2461</td><td>2025-02-17T13:14:30.238+0000</td></tr><tr><td>8</td><td>Customer 8</td><td>customer8@example.com</td><td>China</td><td>Regular</td><td>2023-10-02</td><td>26</td><td>Male</td><td>488</td><td>Low Value</td><td>504</td><td>2025-02-17T13:14:30.238+0000</td></tr><tr><td>9</td><td>Customer 9</td><td>customer9@example.com</td><td>Japan</td><td>Premium</td><td>2014-10-05</td><td>36</td><td>Other</td><td>30</td><td>Low Value</td><td>3788</td><td>2025-02-17T13:14:30.238+0000</td></tr><tr><td>10</td><td>Customer 10</td><td>customer10@example.com</td><td>Brazil</td><td>Premium</td><td>2017-08-30</td><td>30</td><td>Male</td><td>959</td><td>Low Value</td><td>2728</td><td>2025-02-17T13:14:30.238+0000</td></tr></tbody></table></div>"
      ]
     },
     "metadata": {
      "application/vnd.databricks.v1+output": {
       "addedWidgets": {},
       "aggData": [],
       "aggError": "",
       "aggOverflow": false,
       "aggSchema": [],
       "aggSeriesLimitReached": false,
       "aggType": "",
       "arguments": {},
       "columnCustomDisplayInfos": {},
       "data": [
        [
         1,
         "Customer 1",
         "customer1@example.com",
         "Australia",
         "Regular",
         "2011-05-15",
         22,
         "Male",
         191,
         "Low Value",
         5027,
         "2025-02-17T13:14:30.238+0000"
        ],
        [
         2,
         "Customer 2",
         "customer2@example.com",
         "France",
         "Premium",
         "2018-11-27",
         52,
         "Other",
         145,
         "Low Value",
         2274,
         "2025-02-17T13:14:30.238+0000"
        ],
        [
         3,
         "Customer 3",
         "customer3@example.com",
         "Canada",
         "Premium",
         "2015-10-01",
         32,
         "Other",
         691,
         "Low Value",
         3427,
         "2025-02-17T13:14:30.238+0000"
        ],
        [
         4,
         "Customer 4",
         "customer4@example.com",
         "USA",
         "Premium",
         "2011-01-19",
         70,
         "Other",
         644,
         "Low Value",
         5143,
         "2025-02-17T13:14:30.238+0000"
        ],
        [
         5,
         "Customer 5",
         "customer5@example.com",
         "Germany",
         "Regular",
         "2021-08-26",
         66,
         "Other",
         508,
         "Low Value",
         1271,
         "2025-02-17T13:14:30.238+0000"
        ],
        [
         6,
         "Customer 6",
         "customer6@example.com",
         "France",
         "Premium",
         "2015-03-02",
         20,
         "Male",
         704,
         "Low Value",
         3640,
         "2025-02-17T13:14:30.238+0000"
        ],
        [
         7,
         "Customer 7",
         "customer7@example.com",
         "China",
         "Premium",
         "2018-05-24",
         24,
         "Female",
         892,
         "Low Value",
         2461,
         "2025-02-17T13:14:30.238+0000"
        ],
        [
         8,
         "Customer 8",
         "customer8@example.com",
         "China",
         "Regular",
         "2023-10-02",
         26,
         "Male",
         488,
         "Low Value",
         504,
         "2025-02-17T13:14:30.238+0000"
        ],
        [
         9,
         "Customer 9",
         "customer9@example.com",
         "Japan",
         "Premium",
         "2014-10-05",
         36,
         "Other",
         30,
         "Low Value",
         3788,
         "2025-02-17T13:14:30.238+0000"
        ],
        [
         10,
         "Customer 10",
         "customer10@example.com",
         "Brazil",
         "Premium",
         "2017-08-30",
         30,
         "Male",
         959,
         "Low Value",
         2728,
         "2025-02-17T13:14:30.238+0000"
        ]
       ],
       "datasetInfos": [],
       "dbfsResultPath": null,
       "isJsonSchema": true,
       "metadata": {},
       "overflow": false,
       "plotOptions": {
        "customPlotOptions": {},
        "displayType": "table",
        "pivotAggregation": null,
        "pivotColumns": null,
        "xColumns": null,
        "yColumns": null
       },
       "removedWidgets": [],
       "schema": [
        {
         "metadata": "{}",
         "name": "customer_id",
         "type": "\"integer\""
        },
        {
         "metadata": "{}",
         "name": "name",
         "type": "\"string\""
        },
        {
         "metadata": "{}",
         "name": "email",
         "type": "\"string\""
        },
        {
         "metadata": "{}",
         "name": "country",
         "type": "\"string\""
        },
        {
         "metadata": "{}",
         "name": "customer_type",
         "type": "\"string\""
        },
        {
         "metadata": "{\"__detected_date_formats\":\"yyyy-M-d\"}",
         "name": "registration_date",
         "type": "\"date\""
        },
        {
         "metadata": "{}",
         "name": "age",
         "type": "\"integer\""
        },
        {
         "metadata": "{}",
         "name": "gender",
         "type": "\"string\""
        },
        {
         "metadata": "{}",
         "name": "total_purchases",
         "type": "\"integer\""
        },
        {
         "metadata": "{}",
         "name": "customer_segment",
         "type": "\"string\""
        },
        {
         "metadata": "{}",
         "name": "days_since_registration",
         "type": "\"integer\""
        },
        {
         "metadata": "{}",
         "name": "last_updated",
         "type": "\"timestamp\""
        }
       ],
       "type": "table"
      }
     },
     "output_type": "display_data"
    }
   ],
   "source": [
    "display(spark.sql(\"select * from silver_incremental limit 10\"))"
   ]
  },
  {
   "cell_type": "code",
   "execution_count": 0,
   "metadata": {
    "application/vnd.databricks.v1+cell": {
     "cellMetadata": {
      "byteLimit": 2048000,
      "rowLimit": 10000
     },
     "inputWidgets": {},
     "nuid": "97101eff-0c48-41d3-8874-6e75eec969b3",
     "showTitle": false,
     "tableResultSettingsMap": {},
     "title": ""
    }
   },
   "outputs": [
    {
     "output_type": "stream",
     "name": "stdout",
     "output_type": "stream",
     "text": [
      "Out[17]: DataFrame[num_affected_rows: bigint, num_updated_rows: bigint, num_deleted_rows: bigint, num_inserted_rows: bigint]"
     ]
    }
   ],
   "source": [
    "\n",
    "spark.sql(\"\"\"\n",
    "MERGE INTO silver_customers target\n",
    "USING silver_incremental source\n",
    "ON target.customer_id = source.customer_id\n",
    "WHEN MATCHED THEN\n",
    "    UPDATE SET *\n",
    "WHEN NOT MATCHED THEN\n",
    "    INSERT *\n",
    "\"\"\")\n"
   ]
  },
  {
   "cell_type": "code",
   "execution_count": 0,
   "metadata": {
    "application/vnd.databricks.v1+cell": {
     "cellMetadata": {
      "byteLimit": 2048000,
      "rowLimit": 10000
     },
     "inputWidgets": {},
     "nuid": "a6319fbf-5ea7-45cd-907f-abafc3ebec51",
     "showTitle": false,
     "tableResultSettingsMap": {},
     "title": ""
    }
   },
   "outputs": [
    {
     "output_type": "stream",
     "name": "stdout",
     "output_type": "stream",
     "text": [
      "+--------+\n|count(1)|\n+--------+\n|     930|\n+--------+\n\n"
     ]
    }
   ],
   "source": [
    "spark.sql(\"select count(*) from silver_customers\").show()"
   ]
  }
 ],
 "metadata": {
  "application/vnd.databricks.v1+notebook": {
   "computePreferences": null,
   "dashboards": [],
   "environmentMetadata": {
    "base_environment": "",
    "environment_version": "1"
   },
   "inputWidgetPreferences": null,
   "language": "python",
   "notebookMetadata": {
    "mostRecentlyExecutedCommandWithImplicitDF": {
     "commandId": 291597028678948,
     "dataframes": [
      "_sqldf"
     ]
    },
    "pythonIndentUnit": 4
   },
   "notebookName": "Silverlayer_customer_load",
   "widgets": {}
  }
 },
 "nbformat": 4,
 "nbformat_minor": 0
}