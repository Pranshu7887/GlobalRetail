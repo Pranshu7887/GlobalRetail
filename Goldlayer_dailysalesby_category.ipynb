{
 "cells": [
  {
   "cell_type": "code",
   "execution_count": 0,
   "metadata": {
    "application/vnd.databricks.v1+cell": {
     "cellMetadata": {
      "byteLimit": 2048000,
      "rowLimit": 10000
     },
     "inputWidgets": {},
     "nuid": "ac3069c9-826b-4c3e-b305-e567f79022fb",
     "showTitle": false,
     "tableResultSettingsMap": {},
     "title": ""
    }
   },
   "outputs": [
    {
     "output_type": "stream",
     "name": "stdout",
     "output_type": "stream",
     "text": [
      "Out[1]: DataFrame[num_affected_rows: bigint, num_inserted_rows: bigint]"
     ]
    }
   ],
   "source": [
    "spark.sql(\"USE globalretail_gold\")\n",
    "spark.sql(\"\"\"\n",
    "CREATE OR REPLACE TABLE gold_category_sales AS\n",
    "SELECT \n",
    "    p.category AS product_category,\n",
    "    SUM(o.total_amount) AS category_total_sales\n",
    "FROM \n",
    "    globalretail_silver.silver_orders o\n",
    "JOIN \n",
    "    globalretail_silver.silver_products p ON o.product_id = p.product_id\n",
    "GROUP BY \n",
    "    p.category\n",
    "\"\"\")"
   ]
  },
  {
   "cell_type": "code",
   "execution_count": 0,
   "metadata": {
    "application/vnd.databricks.v1+cell": {
     "cellMetadata": {
      "byteLimit": 2048000,
      "implicitDf": true,
      "rowLimit": 10000
     },
     "inputWidgets": {},
     "nuid": "752c36a8-80e9-4558-9f8f-ce9bbf9aa5aa",
     "showTitle": false,
     "tableResultSettingsMap": {},
     "title": ""
    }
   },
   "outputs": [
    {
     "output_type": "display_data",
     "data": {
      "text/html": [
       "<style scoped>\n",
       "  .table-result-container {\n",
       "    max-height: 300px;\n",
       "    overflow: auto;\n",
       "  }\n",
       "  table, th, td {\n",
       "    border: 1px solid black;\n",
       "    border-collapse: collapse;\n",
       "  }\n",
       "  th, td {\n",
       "    padding: 5px;\n",
       "  }\n",
       "  th {\n",
       "    text-align: left;\n",
       "  }\n",
       "</style><div class='table-result-container'><table class='table-result'><thead style='background-color: white'><tr><th>product_category</th><th>category_total_sales</th></tr></thead><tbody><tr><td>Home</td><td>913005.5799999986</td></tr><tr><td>Food</td><td>883949.0000000003</td></tr><tr><td>Sports</td><td>1020675.0399999993</td></tr><tr><td>Electronics</td><td>852899.6000000016</td></tr><tr><td>Clothing</td><td>1038486.6599999992</td></tr><tr><td>Automotive</td><td>944562.6599999997</td></tr><tr><td>Books</td><td>859347.5200000011</td></tr><tr><td>Garden</td><td>967210.2199999999</td></tr><tr><td>Beauty</td><td>831196.6800000002</td></tr><tr><td>Toys</td><td>1015172.3200000008</td></tr></tbody></table></div>"
      ]
     },
     "metadata": {
      "application/vnd.databricks.v1+output": {
       "addedWidgets": {},
       "aggData": [],
       "aggError": "",
       "aggOverflow": false,
       "aggSchema": [],
       "aggSeriesLimitReached": false,
       "aggType": "",
       "arguments": {},
       "columnCustomDisplayInfos": {},
       "data": [
        [
         "Home",
         913005.5799999986
        ],
        [
         "Food",
         883949.0000000003
        ],
        [
         "Sports",
         1020675.0399999993
        ],
        [
         "Electronics",
         852899.6000000016
        ],
        [
         "Clothing",
         1038486.6599999992
        ],
        [
         "Automotive",
         944562.6599999997
        ],
        [
         "Books",
         859347.5200000011
        ],
        [
         "Garden",
         967210.2199999999
        ],
        [
         "Beauty",
         831196.6800000002
        ],
        [
         "Toys",
         1015172.3200000008
        ]
       ],
       "datasetInfos": [],
       "dbfsResultPath": null,
       "isJsonSchema": true,
       "metadata": {},
       "overflow": false,
       "plotOptions": {
        "customPlotOptions": {},
        "displayType": "table",
        "pivotAggregation": null,
        "pivotColumns": null,
        "xColumns": null,
        "yColumns": null
       },
       "removedWidgets": [],
       "schema": [
        {
         "metadata": "{}",
         "name": "product_category",
         "type": "\"string\""
        },
        {
         "metadata": "{}",
         "name": "category_total_sales",
         "type": "\"double\""
        }
       ],
       "type": "table"
      }
     },
     "output_type": "display_data"
    }
   ],
   "source": [
    "%sql\n",
    "select * from  gold_category_sales"
   ]
  }
 ],
 "metadata": {
  "application/vnd.databricks.v1+notebook": {
   "computePreferences": null,
   "dashboards": [],
   "environmentMetadata": {
    "base_environment": "",
    "environment_version": "1"
   },
   "inputWidgetPreferences": null,
   "language": "python",
   "notebookMetadata": {
    "mostRecentlyExecutedCommandWithImplicitDF": {
     "commandId": 291597028678991,
     "dataframes": [
      "_sqldf"
     ]
    },
    "pythonIndentUnit": 4
   },
   "notebookName": "Goldlayer_dailysalesby_category",
   "widgets": {}
  }
 },
 "nbformat": 4,
 "nbformat_minor": 0
}